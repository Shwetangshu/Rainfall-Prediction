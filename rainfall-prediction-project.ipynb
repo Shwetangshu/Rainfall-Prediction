{
 "cells": [
  {
   "cell_type": "markdown",
   "metadata": {},
   "source": [
    "### Rainfall Prediction  is:\n",
    "one of the difficult and uncertain tasks that have a significant impact on human society. Timely and accurate forecasting can proactively help reduce human and financial loss. This study presents a set of experiments that involve the use of common machine learning techniques to create models that can predict whether it will rain tomorrow or not based on the weather data for that day in major cities in Australia.\n",
    "\n",
    "I’ve always liked knowing the parameters meteorologists take into account before making a weather forecast, so I found the dataset interesting. From an expert’s point of view, however, this dataset is fairly straightforward. At the end of this article, you will learn:\n",
    "\n",
    "![](https://wallpaperaccess.com/full/688287.jpg)"
   ]
  },
  {
   "cell_type": "code",
   "execution_count": null,
   "metadata": {
    "execution": {
     "iopub.execute_input": "2023-05-04T11:00:12.019919Z",
     "iopub.status.busy": "2023-05-04T11:00:12.019303Z",
     "iopub.status.idle": "2023-05-04T11:00:12.026076Z",
     "shell.execute_reply": "2023-05-04T11:00:12.024482Z",
     "shell.execute_reply.started": "2023-05-04T11:00:12.019739Z"
    }
   },
   "outputs": [],
   "source": [
    "import seaborn as sns\n",
    "import matplotlib.pyplot as plt"
   ]
  },
  {
   "cell_type": "code",
   "execution_count": null,
   "metadata": {
    "_cell_guid": "b1076dfc-b9ad-4769-8c92-a6c4dae69d19",
    "_uuid": "8f2839f25d086af736a60e9eeb907d3b93b6e0e5",
    "execution": {
     "iopub.execute_input": "2023-05-04T11:00:12.029817Z",
     "iopub.status.busy": "2023-05-04T11:00:12.028956Z",
     "iopub.status.idle": "2023-05-04T11:00:12.09638Z",
     "shell.execute_reply": "2023-05-04T11:00:12.095173Z",
     "shell.execute_reply.started": "2023-05-04T11:00:12.029761Z"
    }
   },
   "outputs": [],
   "source": [
    "import pandas as pd\n",
    "df = pd.read_csv('../input/shamirpet-rainfall/Rainfall_19910101_20210331_Shamirpet - Rainfall_19910101_20210331_Shamirpet.csv')\n",
    "df.head()"
   ]
  },
  {
   "cell_type": "markdown",
   "metadata": {},
   "source": [
    "## Data Exploration\n",
    "We will first check the number of rows and columns. Next, we’ll check the size of the dataset to decide if it needs size compression"
   ]
  },
  {
   "cell_type": "code",
   "execution_count": 1,
   "metadata": {
    "execution": {
     "iopub.execute_input": "2023-05-04T11:00:12.09845Z",
     "iopub.status.busy": "2023-05-04T11:00:12.09811Z",
     "iopub.status.idle": "2023-05-04T11:00:12.105945Z",
     "shell.execute_reply": "2023-05-04T11:00:12.10472Z",
     "shell.execute_reply.started": "2023-05-04T11:00:12.098416Z"
    }
   },
   "outputs": [
    {
     "ename": "NameError",
     "evalue": "name 'df' is not defined",
     "output_type": "error",
     "traceback": [
      "\u001b[0;31m---------------------------------------------------------------------------\u001b[0m",
      "\u001b[0;31mNameError\u001b[0m                                 Traceback (most recent call last)",
      "\u001b[0;32m/var/folders/vy/nkyp6vqj4ss94797dpdr5bbm0000gn/T/ipykernel_46861/857714779.py\u001b[0m in \u001b[0;36m<module>\u001b[0;34m\u001b[0m\n\u001b[0;32m----> 1\u001b[0;31m \u001b[0mdf\u001b[0m\u001b[0;34m.\u001b[0m\u001b[0mshape\u001b[0m\u001b[0;34m\u001b[0m\u001b[0;34m\u001b[0m\u001b[0m\n\u001b[0m",
      "\u001b[0;31mNameError\u001b[0m: name 'df' is not defined"
     ]
    }
   ],
   "source": [
    "df.shape"
   ]
  },
  {
   "cell_type": "code",
   "execution_count": 2,
   "metadata": {
    "execution": {
     "iopub.execute_input": "2023-05-04T11:00:12.110101Z",
     "iopub.status.busy": "2023-05-04T11:00:12.109504Z",
     "iopub.status.idle": "2023-05-04T11:00:12.133603Z",
     "shell.execute_reply": "2023-05-04T11:00:12.132696Z",
     "shell.execute_reply.started": "2023-05-04T11:00:12.110051Z"
    }
   },
   "outputs": [
    {
     "ename": "NameError",
     "evalue": "name 'df' is not defined",
     "output_type": "error",
     "traceback": [
      "\u001b[0;31m---------------------------------------------------------------------------\u001b[0m",
      "\u001b[0;31mNameError\u001b[0m                                 Traceback (most recent call last)",
      "\u001b[0;32m/var/folders/vy/nkyp6vqj4ss94797dpdr5bbm0000gn/T/ipykernel_46861/3771845804.py\u001b[0m in \u001b[0;36m<module>\u001b[0;34m\u001b[0m\n\u001b[0;32m----> 1\u001b[0;31m \u001b[0mdf\u001b[0m\u001b[0;34m.\u001b[0m\u001b[0minfo\u001b[0m\u001b[0;34m(\u001b[0m\u001b[0;34m)\u001b[0m\u001b[0;34m\u001b[0m\u001b[0;34m\u001b[0m\u001b[0m\n\u001b[0m",
      "\u001b[0;31mNameError\u001b[0m: name 'df' is not defined"
     ]
    }
   ],
   "source": [
    "df.info()"
   ]
  },
  {
   "cell_type": "code",
   "execution_count": 3,
   "metadata": {
    "execution": {
     "iopub.execute_input": "2023-05-04T11:00:12.136113Z",
     "iopub.status.busy": "2023-05-04T11:00:12.135728Z",
     "iopub.status.idle": "2023-05-04T11:00:12.476866Z",
     "shell.execute_reply": "2023-05-04T11:00:12.4753Z",
     "shell.execute_reply.started": "2023-05-04T11:00:12.136022Z"
    }
   },
   "outputs": [
    {
     "ename": "NameError",
     "evalue": "name 'plt' is not defined",
     "output_type": "error",
     "traceback": [
      "\u001b[0;31m---------------------------------------------------------------------------\u001b[0m",
      "\u001b[0;31mNameError\u001b[0m                                 Traceback (most recent call last)",
      "\u001b[0;32m/var/folders/vy/nkyp6vqj4ss94797dpdr5bbm0000gn/T/ipykernel_46861/2359602668.py\u001b[0m in \u001b[0;36m<module>\u001b[0;34m\u001b[0m\n\u001b[0;32m----> 1\u001b[0;31m \u001b[0mfig\u001b[0m\u001b[0;34m,\u001b[0m \u001b[0maxarr\u001b[0m \u001b[0;34m=\u001b[0m \u001b[0mplt\u001b[0m\u001b[0;34m.\u001b[0m\u001b[0msubplots\u001b[0m\u001b[0;34m(\u001b[0m\u001b[0;36m1\u001b[0m\u001b[0;34m,\u001b[0m \u001b[0;36m2\u001b[0m\u001b[0;34m,\u001b[0m \u001b[0mfigsize\u001b[0m\u001b[0;34m=\u001b[0m\u001b[0;34m(\u001b[0m\u001b[0;36m20\u001b[0m\u001b[0;34m,\u001b[0m \u001b[0;36m8\u001b[0m\u001b[0;34m)\u001b[0m\u001b[0;34m)\u001b[0m\u001b[0;34m\u001b[0m\u001b[0;34m\u001b[0m\u001b[0m\n\u001b[0m\u001b[1;32m      2\u001b[0m \u001b[0;34m\u001b[0m\u001b[0m\n\u001b[1;32m      3\u001b[0m \u001b[0mdf\u001b[0m\u001b[0;34m.\u001b[0m\u001b[0mdtypes\u001b[0m\u001b[0;34m.\u001b[0m\u001b[0mvalue_counts\u001b[0m\u001b[0;34m(\u001b[0m\u001b[0;34m)\u001b[0m\u001b[0;34m.\u001b[0m\u001b[0mplot\u001b[0m\u001b[0;34m.\u001b[0m\u001b[0mpie\u001b[0m\u001b[0;34m(\u001b[0m\u001b[0mexplode\u001b[0m\u001b[0;34m=\u001b[0m\u001b[0;34m[\u001b[0m\u001b[0;36m0.1\u001b[0m\u001b[0;34m,\u001b[0m\u001b[0;36m0.1\u001b[0m\u001b[0;34m]\u001b[0m\u001b[0;34m,\u001b[0m\u001b[0mautopct\u001b[0m\u001b[0;34m=\u001b[0m\u001b[0;34m'%1.1f%%'\u001b[0m\u001b[0;34m,\u001b[0m\u001b[0mshadow\u001b[0m\u001b[0;34m=\u001b[0m\u001b[0;32mTrue\u001b[0m\u001b[0;34m,\u001b[0m\u001b[0max\u001b[0m\u001b[0;34m=\u001b[0m\u001b[0maxarr\u001b[0m\u001b[0;34m[\u001b[0m\u001b[0;36m1\u001b[0m\u001b[0;34m]\u001b[0m\u001b[0;34m)\u001b[0m\u001b[0;34m\u001b[0m\u001b[0;34m\u001b[0m\u001b[0m\n\u001b[1;32m      4\u001b[0m \u001b[0maxarr\u001b[0m\u001b[0;34m[\u001b[0m\u001b[0;36m1\u001b[0m\u001b[0;34m]\u001b[0m\u001b[0;34m.\u001b[0m\u001b[0mset_title\u001b[0m\u001b[0;34m(\u001b[0m\u001b[0;34m\"type of our data \"\u001b[0m\u001b[0;34m,\u001b[0m \u001b[0mfontsize\u001b[0m\u001b[0;34m=\u001b[0m\u001b[0;36m18\u001b[0m\u001b[0;34m)\u001b[0m\u001b[0;34m\u001b[0m\u001b[0;34m\u001b[0m\u001b[0m\n\u001b[1;32m      5\u001b[0m \u001b[0;34m\u001b[0m\u001b[0m\n",
      "\u001b[0;31mNameError\u001b[0m: name 'plt' is not defined"
     ]
    }
   ],
   "source": [
    "fig, axarr = plt.subplots(1, 2, figsize=(20, 8))\n",
    "\n",
    "df.dtypes.value_counts().plot.pie(explode=[0.1,0.1],autopct='%1.1f%%',shadow=True,ax=axarr[1])\n",
    "axarr[1].set_title(\"type of our data \", fontsize=18)\n",
    "\n",
    "df.dtypes.value_counts().plot(kind='bar',ax=axarr[0])\n",
    "plt.title('type of our data');\n",
    "axarr[0].set_title(\"type of our data \", fontsize=18)"
   ]
  },
  {
   "cell_type": "markdown",
   "metadata": {},
   "source": [
    "## “RainToday” and “RainTomorrow” are objects (Yes / No). I will convert them to binary (1/0) for our convenience."
   ]
  },
  {
   "cell_type": "code",
   "execution_count": 4,
   "metadata": {
    "execution": {
     "iopub.execute_input": "2023-05-04T11:00:12.478983Z",
     "iopub.status.busy": "2023-05-04T11:00:12.478633Z",
     "iopub.status.idle": "2023-05-04T11:00:12.496432Z",
     "shell.execute_reply": "2023-05-04T11:00:12.49491Z",
     "shell.execute_reply.started": "2023-05-04T11:00:12.478949Z"
    }
   },
   "outputs": [
    {
     "ename": "NameError",
     "evalue": "name 'df' is not defined",
     "output_type": "error",
     "traceback": [
      "\u001b[0;31m---------------------------------------------------------------------------\u001b[0m",
      "\u001b[0;31mNameError\u001b[0m                                 Traceback (most recent call last)",
      "\u001b[0;32m/var/folders/vy/nkyp6vqj4ss94797dpdr5bbm0000gn/T/ipykernel_46861/3450325832.py\u001b[0m in \u001b[0;36m<module>\u001b[0;34m\u001b[0m\n\u001b[0;32m----> 1\u001b[0;31m \u001b[0mdf\u001b[0m\u001b[0;34m[\u001b[0m\u001b[0;34m'Rain_Today'\u001b[0m\u001b[0;34m]\u001b[0m\u001b[0;34m.\u001b[0m\u001b[0mreplace\u001b[0m\u001b[0;34m(\u001b[0m\u001b[0;34m{\u001b[0m\u001b[0;34m'No'\u001b[0m\u001b[0;34m:\u001b[0m \u001b[0;36m0\u001b[0m\u001b[0;34m,\u001b[0m \u001b[0;34m'Yes'\u001b[0m\u001b[0;34m:\u001b[0m \u001b[0;36m1\u001b[0m\u001b[0;34m}\u001b[0m\u001b[0;34m,\u001b[0m\u001b[0minplace\u001b[0m \u001b[0;34m=\u001b[0m \u001b[0;32mTrue\u001b[0m\u001b[0;34m)\u001b[0m\u001b[0;34m\u001b[0m\u001b[0;34m\u001b[0m\u001b[0m\n\u001b[0m\u001b[1;32m      2\u001b[0m \u001b[0mdf\u001b[0m\u001b[0;34m[\u001b[0m\u001b[0;34m'Rain_Tmr'\u001b[0m\u001b[0;34m]\u001b[0m\u001b[0;34m.\u001b[0m\u001b[0mreplace\u001b[0m\u001b[0;34m(\u001b[0m\u001b[0;34m{\u001b[0m\u001b[0;34m'No'\u001b[0m\u001b[0;34m:\u001b[0m \u001b[0;36m0\u001b[0m\u001b[0;34m,\u001b[0m \u001b[0;34m'Yes'\u001b[0m\u001b[0;34m:\u001b[0m \u001b[0;36m1\u001b[0m\u001b[0;34m}\u001b[0m\u001b[0;34m,\u001b[0m\u001b[0minplace\u001b[0m \u001b[0;34m=\u001b[0m \u001b[0;32mTrue\u001b[0m\u001b[0;34m)\u001b[0m\u001b[0;34m\u001b[0m\u001b[0;34m\u001b[0m\u001b[0m\n",
      "\u001b[0;31mNameError\u001b[0m: name 'df' is not defined"
     ]
    }
   ],
   "source": [
    "df['Rain_Today'].replace({'No': 0, 'Yes': 1},inplace = True)\n",
    "df['Rain_Tmr'].replace({'No': 0, 'Yes': 1},inplace = True)"
   ]
  },
  {
   "cell_type": "markdown",
   "metadata": {},
   "source": [
    "Next, we will check if the dataset is unbalanced or balanced. If the data set is unbalanced, we need to either downsample the majority or oversample the minority to balance it."
   ]
  },
  {
   "cell_type": "code",
   "execution_count": 5,
   "metadata": {
    "execution": {
     "iopub.execute_input": "2023-05-04T11:00:12.499091Z",
     "iopub.status.busy": "2023-05-04T11:00:12.498631Z",
     "iopub.status.idle": "2023-05-04T11:00:12.64785Z",
     "shell.execute_reply": "2023-05-04T11:00:12.646806Z",
     "shell.execute_reply.started": "2023-05-04T11:00:12.499044Z"
    }
   },
   "outputs": [
    {
     "ename": "NameError",
     "evalue": "name 'df' is not defined",
     "output_type": "error",
     "traceback": [
      "\u001b[0;31m---------------------------------------------------------------------------\u001b[0m",
      "\u001b[0;31mNameError\u001b[0m                                 Traceback (most recent call last)",
      "\u001b[0;32m/var/folders/vy/nkyp6vqj4ss94797dpdr5bbm0000gn/T/ipykernel_46861/366146543.py\u001b[0m in \u001b[0;36m<module>\u001b[0;34m\u001b[0m\n\u001b[1;32m      1\u001b[0m \u001b[0;32mimport\u001b[0m \u001b[0mmatplotlib\u001b[0m\u001b[0;34m.\u001b[0m\u001b[0mpyplot\u001b[0m \u001b[0;32mas\u001b[0m \u001b[0mplt\u001b[0m\u001b[0;34m\u001b[0m\u001b[0;34m\u001b[0m\u001b[0m\n\u001b[1;32m      2\u001b[0m \u001b[0mfig\u001b[0m \u001b[0;34m=\u001b[0m \u001b[0mplt\u001b[0m\u001b[0;34m.\u001b[0m\u001b[0mfigure\u001b[0m\u001b[0;34m(\u001b[0m\u001b[0mfigsize\u001b[0m \u001b[0;34m=\u001b[0m \u001b[0;34m(\u001b[0m\u001b[0;36m8\u001b[0m\u001b[0;34m,\u001b[0m\u001b[0;36m5\u001b[0m\u001b[0;34m)\u001b[0m\u001b[0;34m)\u001b[0m\u001b[0;34m\u001b[0m\u001b[0;34m\u001b[0m\u001b[0m\n\u001b[0;32m----> 3\u001b[0;31m \u001b[0mdf\u001b[0m\u001b[0;34m.\u001b[0m\u001b[0mRain_Tmr\u001b[0m\u001b[0;34m.\u001b[0m\u001b[0mvalue_counts\u001b[0m\u001b[0;34m(\u001b[0m\u001b[0mnormalize\u001b[0m \u001b[0;34m=\u001b[0m \u001b[0;32mTrue\u001b[0m\u001b[0;34m)\u001b[0m\u001b[0;34m.\u001b[0m\u001b[0mplot\u001b[0m\u001b[0;34m(\u001b[0m\u001b[0mkind\u001b[0m\u001b[0;34m=\u001b[0m\u001b[0;34m'bar'\u001b[0m\u001b[0;34m,\u001b[0m \u001b[0mcolor\u001b[0m\u001b[0;34m=\u001b[0m \u001b[0;34m[\u001b[0m\u001b[0;34m'skyblue'\u001b[0m\u001b[0;34m,\u001b[0m\u001b[0;34m'navy'\u001b[0m\u001b[0;34m]\u001b[0m\u001b[0;34m,\u001b[0m \u001b[0malpha\u001b[0m \u001b[0;34m=\u001b[0m \u001b[0;36m0.9\u001b[0m\u001b[0;34m,\u001b[0m \u001b[0mrot\u001b[0m\u001b[0;34m=\u001b[0m\u001b[0;36m0\u001b[0m\u001b[0;34m)\u001b[0m\u001b[0;34m\u001b[0m\u001b[0;34m\u001b[0m\u001b[0m\n\u001b[0m\u001b[1;32m      4\u001b[0m \u001b[0mplt\u001b[0m\u001b[0;34m.\u001b[0m\u001b[0mtitle\u001b[0m\u001b[0;34m(\u001b[0m\u001b[0;34m'RainTomorrow Indicator No(0) and Yes(1) in the Imbalanced Dataset'\u001b[0m\u001b[0;34m)\u001b[0m\u001b[0;34m\u001b[0m\u001b[0;34m\u001b[0m\u001b[0m\n\u001b[1;32m      5\u001b[0m \u001b[0mplt\u001b[0m\u001b[0;34m.\u001b[0m\u001b[0mshow\u001b[0m\u001b[0;34m(\u001b[0m\u001b[0;34m)\u001b[0m\u001b[0;34m\u001b[0m\u001b[0;34m\u001b[0m\u001b[0m\n",
      "\u001b[0;31mNameError\u001b[0m: name 'df' is not defined"
     ]
    },
    {
     "data": {
      "text/plain": [
       "<Figure size 800x500 with 0 Axes>"
      ]
     },
     "metadata": {},
     "output_type": "display_data"
    }
   ],
   "source": [
    "import matplotlib.pyplot as plt\n",
    "fig = plt.figure(figsize = (8,5))\n",
    "df.Rain_Tmr.value_counts(normalize = True).plot(kind='bar', color= ['skyblue','navy'], alpha = 0.9, rot=0)\n",
    "plt.title('RainTomorrow Indicator No(0) and Yes(1) in the Imbalanced Dataset')\n",
    "plt.show()"
   ]
  },
  {
   "cell_type": "markdown",
   "metadata": {},
   "source": [
    "We can observe that the presence of “0” and “1” is almost in the 55:45 ratio. So there is no class imbalance and we don't have to deal with it. "
   ]
  },
  {
   "cell_type": "markdown",
   "metadata": {},
   "source": [
    "### Now, I will now check the missing data model in the dataset:"
   ]
  },
  {
   "cell_type": "code",
   "execution_count": null,
   "metadata": {
    "execution": {
     "iopub.execute_input": "2023-05-04T11:00:12.649981Z",
     "iopub.status.busy": "2023-05-04T11:00:12.649528Z",
     "iopub.status.idle": "2023-05-04T11:00:12.673064Z",
     "shell.execute_reply": "2023-05-04T11:00:12.671698Z",
     "shell.execute_reply.started": "2023-05-04T11:00:12.649939Z"
    }
   },
   "outputs": [],
   "source": [
    "# create a table with data missing \n",
    "missing_values=df.isnull().sum() # missing values\n",
    "\n",
    "percent_missing = df.isnull().sum()/df.shape[0]*100 # missing value %\n",
    "\n",
    "value = {\n",
    "    'missing_values ':missing_values,\n",
    "    'percent_missing %':percent_missing , \n",
    "     'data type' : df.dtypes\n",
    "}\n",
    "frame=pd.DataFrame(value)\n",
    "frame\n"
   ]
  },
  {
   "cell_type": "code",
   "execution_count": null,
   "metadata": {
    "execution": {
     "iopub.execute_input": "2023-05-04T11:07:33.499975Z",
     "iopub.status.busy": "2023-05-04T11:07:33.499506Z",
     "iopub.status.idle": "2023-05-04T11:07:33.506468Z",
     "shell.execute_reply": "2023-05-04T11:07:33.50554Z",
     "shell.execute_reply.started": "2023-05-04T11:07:33.499934Z"
    }
   },
   "outputs": [],
   "source": [
    "df['Rain_Tmr'] = df['Rain_Tmr'].fillna(0)"
   ]
  },
  {
   "cell_type": "code",
   "execution_count": null,
   "metadata": {
    "execution": {
     "iopub.execute_input": "2023-05-04T11:08:09.862937Z",
     "iopub.status.busy": "2023-05-04T11:08:09.862508Z",
     "iopub.status.idle": "2023-05-04T11:08:09.871986Z",
     "shell.execute_reply": "2023-05-04T11:08:09.871036Z",
     "shell.execute_reply.started": "2023-05-04T11:08:09.862898Z"
    }
   },
   "outputs": [],
   "source": [
    "# Convert categorical features to continuous features with Label Encoding\n",
    "from sklearn.preprocessing import LabelEncoder\n",
    "lencoders = {}\n",
    "for col in df.select_dtypes(include=['object']).columns:\n",
    "    lencoders[col] = LabelEncoder()\n",
    "    df[col] = lencoders[col].fit_transform(df[col])"
   ]
  },
  {
   "cell_type": "code",
   "execution_count": null,
   "metadata": {
    "execution": {
     "iopub.execute_input": "2023-05-04T11:08:10.531819Z",
     "iopub.status.busy": "2023-05-04T11:08:10.531257Z",
     "iopub.status.idle": "2023-05-04T11:08:10.989857Z",
     "shell.execute_reply": "2023-05-04T11:08:10.987688Z",
     "shell.execute_reply.started": "2023-05-04T11:08:10.531782Z"
    }
   },
   "outputs": [],
   "source": [
    "import warnings\n",
    "warnings.filterwarnings(\"ignore\")\n",
    "# Multiple Imputation by Chained Equations\n",
    "from sklearn.experimental import enable_iterative_imputer\n",
    "from sklearn.impute import IterativeImputer\n",
    "MiceImputed = df.copy(deep=True) \n",
    "mice_imputer = IterativeImputer()\n",
    "MiceImputed.iloc[:, :] = mice_imputer.fit_transform(df)"
   ]
  },
  {
   "cell_type": "code",
   "execution_count": null,
   "metadata": {
    "execution": {
     "iopub.execute_input": "2023-05-04T11:08:14.28185Z",
     "iopub.status.busy": "2023-05-04T11:08:14.281381Z",
     "iopub.status.idle": "2023-05-04T11:08:14.303296Z",
     "shell.execute_reply": "2023-05-04T11:08:14.302283Z",
     "shell.execute_reply.started": "2023-05-04T11:08:14.281809Z"
    }
   },
   "outputs": [],
   "source": [
    "# Detecting outliers with IQR\n",
    "Q1 = MiceImputed.quantile(0.25)\n",
    "Q3 = MiceImputed.quantile(0.75)\n",
    "IQR = Q3 - Q1\n",
    "print(IQR)"
   ]
  },
  {
   "cell_type": "code",
   "execution_count": 6,
   "metadata": {
    "execution": {
     "iopub.execute_input": "2023-05-04T11:09:03.950595Z",
     "iopub.status.busy": "2023-05-04T11:09:03.95Z",
     "iopub.status.idle": "2023-05-04T11:09:03.982972Z",
     "shell.execute_reply": "2023-05-04T11:09:03.981327Z",
     "shell.execute_reply.started": "2023-05-04T11:09:03.950558Z"
    }
   },
   "outputs": [
    {
     "ename": "NameError",
     "evalue": "name 'MiceImputed' is not defined",
     "output_type": "error",
     "traceback": [
      "\u001b[0;31m---------------------------------------------------------------------------\u001b[0m",
      "\u001b[0;31mNameError\u001b[0m                                 Traceback (most recent call last)",
      "\u001b[0;32m/var/folders/vy/nkyp6vqj4ss94797dpdr5bbm0000gn/T/ipykernel_46861/1677848304.py\u001b[0m in \u001b[0;36m<module>\u001b[0;34m\u001b[0m\n\u001b[1;32m      1\u001b[0m \u001b[0;31m# Removing outliers from the dataset\u001b[0m\u001b[0;34m\u001b[0m\u001b[0;34m\u001b[0m\u001b[0m\n\u001b[0;32m----> 2\u001b[0;31m \u001b[0mMiceImputed\u001b[0m \u001b[0;34m=\u001b[0m \u001b[0mMiceImputed\u001b[0m\u001b[0;34m[\u001b[0m\u001b[0;34m~\u001b[0m\u001b[0;34m(\u001b[0m\u001b[0;34m(\u001b[0m\u001b[0mMiceImputed\u001b[0m \u001b[0;34m<\u001b[0m \u001b[0;34m(\u001b[0m\u001b[0mQ1\u001b[0m \u001b[0;34m-\u001b[0m \u001b[0;36m1.5\u001b[0m \u001b[0;34m*\u001b[0m \u001b[0mIQR\u001b[0m\u001b[0;34m)\u001b[0m\u001b[0;34m)\u001b[0m \u001b[0;34m|\u001b[0m\u001b[0;34m(\u001b[0m\u001b[0mMiceImputed\u001b[0m \u001b[0;34m>\u001b[0m \u001b[0;34m(\u001b[0m\u001b[0mQ3\u001b[0m \u001b[0;34m+\u001b[0m \u001b[0;36m1.5\u001b[0m \u001b[0;34m*\u001b[0m \u001b[0mIQR\u001b[0m\u001b[0;34m)\u001b[0m\u001b[0;34m)\u001b[0m\u001b[0;34m)\u001b[0m\u001b[0;34m.\u001b[0m\u001b[0many\u001b[0m\u001b[0;34m(\u001b[0m\u001b[0maxis\u001b[0m\u001b[0;34m=\u001b[0m\u001b[0;36m1\u001b[0m\u001b[0;34m)\u001b[0m\u001b[0;34m]\u001b[0m\u001b[0;34m\u001b[0m\u001b[0;34m\u001b[0m\u001b[0m\n\u001b[0m\u001b[1;32m      3\u001b[0m \u001b[0mMiceImputed\u001b[0m\u001b[0;34m.\u001b[0m\u001b[0mshape\u001b[0m\u001b[0;34m\u001b[0m\u001b[0;34m\u001b[0m\u001b[0m\n",
      "\u001b[0;31mNameError\u001b[0m: name 'MiceImputed' is not defined"
     ]
    }
   ],
   "source": [
    "# Removing outliers from the dataset\n",
    "MiceImputed = MiceImputed[~((MiceImputed < (Q1 - 1.5 * IQR)) |(MiceImputed > (Q3 + 1.5 * IQR))).any(axis=1)]\n",
    "MiceImputed.shape"
   ]
  },
  {
   "cell_type": "markdown",
   "metadata": {},
   "source": [
    "We observe that the original dataset had the form (11048, 15). After running a code snippet for removing outliers, the dataset now has the form (8752, 15). As a result, the dataset is now free of 2296 outliers. We are now going to check multicollinearity, that is to say if a character is strongly correlated with another."
   ]
  },
  {
   "cell_type": "code",
   "execution_count": 7,
   "metadata": {
    "execution": {
     "iopub.execute_input": "2023-05-04T11:09:08.302212Z",
     "iopub.status.busy": "2023-05-04T11:09:08.301753Z",
     "iopub.status.idle": "2023-05-04T11:09:09.383341Z",
     "shell.execute_reply": "2023-05-04T11:09:09.38238Z",
     "shell.execute_reply.started": "2023-05-04T11:09:08.302173Z"
    }
   },
   "outputs": [
    {
     "ename": "NameError",
     "evalue": "name 'MiceImputed' is not defined",
     "output_type": "error",
     "traceback": [
      "\u001b[0;31m---------------------------------------------------------------------------\u001b[0m",
      "\u001b[0;31mNameError\u001b[0m                                 Traceback (most recent call last)",
      "\u001b[0;32m/var/folders/vy/nkyp6vqj4ss94797dpdr5bbm0000gn/T/ipykernel_46861/310436082.py\u001b[0m in \u001b[0;36m<module>\u001b[0;34m\u001b[0m\n\u001b[1;32m      3\u001b[0m \u001b[0;32mimport\u001b[0m \u001b[0mmatplotlib\u001b[0m\u001b[0;34m.\u001b[0m\u001b[0mpyplot\u001b[0m \u001b[0;32mas\u001b[0m \u001b[0mplt\u001b[0m\u001b[0;34m\u001b[0m\u001b[0;34m\u001b[0m\u001b[0m\n\u001b[1;32m      4\u001b[0m \u001b[0;32mimport\u001b[0m \u001b[0mseaborn\u001b[0m \u001b[0;32mas\u001b[0m \u001b[0msns\u001b[0m\u001b[0;34m\u001b[0m\u001b[0;34m\u001b[0m\u001b[0m\n\u001b[0;32m----> 5\u001b[0;31m \u001b[0mcorr\u001b[0m \u001b[0;34m=\u001b[0m \u001b[0mMiceImputed\u001b[0m\u001b[0;34m.\u001b[0m\u001b[0mcorr\u001b[0m\u001b[0;34m(\u001b[0m\u001b[0;34m)\u001b[0m\u001b[0;34m\u001b[0m\u001b[0;34m\u001b[0m\u001b[0m\n\u001b[0m\u001b[1;32m      6\u001b[0m \u001b[0mmask\u001b[0m \u001b[0;34m=\u001b[0m \u001b[0mnp\u001b[0m\u001b[0;34m.\u001b[0m\u001b[0mtriu\u001b[0m\u001b[0;34m(\u001b[0m\u001b[0mnp\u001b[0m\u001b[0;34m.\u001b[0m\u001b[0mones_like\u001b[0m\u001b[0;34m(\u001b[0m\u001b[0mcorr\u001b[0m\u001b[0;34m,\u001b[0m \u001b[0mdtype\u001b[0m\u001b[0;34m=\u001b[0m\u001b[0mnp\u001b[0m\u001b[0;34m.\u001b[0m\u001b[0mbool\u001b[0m\u001b[0;34m)\u001b[0m\u001b[0;34m)\u001b[0m\u001b[0;34m\u001b[0m\u001b[0;34m\u001b[0m\u001b[0m\n\u001b[1;32m      7\u001b[0m \u001b[0mf\u001b[0m\u001b[0;34m,\u001b[0m \u001b[0max\u001b[0m \u001b[0;34m=\u001b[0m \u001b[0mplt\u001b[0m\u001b[0;34m.\u001b[0m\u001b[0msubplots\u001b[0m\u001b[0;34m(\u001b[0m\u001b[0mfigsize\u001b[0m\u001b[0;34m=\u001b[0m\u001b[0;34m(\u001b[0m\u001b[0;36m20\u001b[0m\u001b[0;34m,\u001b[0m \u001b[0;36m20\u001b[0m\u001b[0;34m)\u001b[0m\u001b[0;34m)\u001b[0m\u001b[0;34m\u001b[0m\u001b[0;34m\u001b[0m\u001b[0m\n",
      "\u001b[0;31mNameError\u001b[0m: name 'MiceImputed' is not defined"
     ]
    }
   ],
   "source": [
    "# Correlation Heatmap\n",
    "import numpy as np\n",
    "import matplotlib.pyplot as plt\n",
    "import seaborn as sns\n",
    "corr = MiceImputed.corr()\n",
    "mask = np.triu(np.ones_like(corr, dtype=np.bool))\n",
    "f, ax = plt.subplots(figsize=(20, 20))\n",
    "cmap = sns.diverging_palette(250, 25, as_cmap=True)\n",
    "sns.heatmap(corr, mask=mask, cmap=cmap, vmax=None, center=0,square=True, annot=True, linewidths=.5, cbar_kws={\"shrink\": .9})"
   ]
  },
  {
   "cell_type": "markdown",
   "metadata": {},
   "source": [
    "The following feature pairs have a strong correlation with each other:\n",
    "\n",
    "     * Max_Temp and Min_Temp\n",
    "    * Specific_Humidity and Dew\n",
    "    * Max_WindSpeed and Min_Temp\n",
    "    * Max_WindSpeed and Min_WindSpeed\n",
    "    * WindDirection(Degrees) and Max_WindSpeed\n",
    "\n",
    "However, we can delve deeper into the pairwise correlation between these highly correlated characteristics by examining the following pair diagram. Each of the paired plots shows very clearly distinct clusters of RainTomorrow’s “yes” and “no” clusters. There is very minimal overlap between them."
   ]
  },
  {
   "cell_type": "code",
   "execution_count": null,
   "metadata": {
    "execution": {
     "iopub.execute_input": "2023-05-04T11:00:14.433215Z",
     "iopub.status.busy": "2023-05-04T11:00:14.432908Z",
     "iopub.status.idle": "2023-05-04T11:00:47.725844Z",
     "shell.execute_reply": "2023-05-04T11:00:47.724727Z",
     "shell.execute_reply.started": "2023-05-04T11:00:14.433186Z"
    }
   },
   "outputs": [],
   "source": [
    "sns.pairplot( data=MiceImputed, vars=('Max_Temp','Min_Temp','Specific_Humidity','Dew', 'Max_WindSpeed', 'Min_WindSpeed', 'WindDirection(Degrees)'), hue='Rain_Tmr' )\n"
   ]
  },
  {
   "cell_type": "markdown",
   "metadata": {},
   "source": [
    "## Feature Selection for Rainfall Prediction\n",
    "I will use both the filter method and the wrapper method for feature selection to train our rainfall prediction model.\n",
    "\n",
    "Selecting features by filtering method (chi-square value): before doing this, we must first normalize our data. We use MinMaxScaler instead of StandardScaler in order to avoid negative values."
   ]
  },
  {
   "cell_type": "code",
   "execution_count": null,
   "metadata": {
    "execution": {
     "iopub.execute_input": "2023-05-04T11:09:20.003366Z",
     "iopub.status.busy": "2023-05-04T11:09:20.002897Z",
     "iopub.status.idle": "2023-05-04T11:09:20.017759Z",
     "shell.execute_reply": "2023-05-04T11:09:20.016293Z",
     "shell.execute_reply.started": "2023-05-04T11:09:20.003324Z"
    }
   },
   "outputs": [],
   "source": [
    "# Standardizing data\n",
    "from sklearn import preprocessing\n",
    "r_scaler = preprocessing.MinMaxScaler()\n",
    "r_scaler.fit(MiceImputed)\n",
    "modified_data = pd.DataFrame(r_scaler.transform(MiceImputed), index=MiceImputed.index, columns=MiceImputed.columns)"
   ]
  },
  {
   "cell_type": "code",
   "execution_count": null,
   "metadata": {
    "execution": {
     "iopub.execute_input": "2023-05-04T11:09:21.612828Z",
     "iopub.status.busy": "2023-05-04T11:09:21.612313Z",
     "iopub.status.idle": "2023-05-04T11:09:21.636118Z",
     "shell.execute_reply": "2023-05-04T11:09:21.634592Z",
     "shell.execute_reply.started": "2023-05-04T11:09:21.61278Z"
    }
   },
   "outputs": [],
   "source": [
    "# Feature Importance using Filter Method (Chi-Square)\n",
    "from sklearn.feature_selection import SelectKBest, chi2\n",
    "X = modified_data.loc[:,modified_data.columns!='Rain_Tmr']\n",
    "y = y\n",
    "selector = SelectKBest(chi2, k=10)\n",
    "selector.fit(X, y)\n",
    "X_new = selector.transform(X)\n",
    "print(X.columns[selector.get_support(indices=True)])"
   ]
  },
  {
   "cell_type": "code",
   "execution_count": 8,
   "metadata": {
    "execution": {
     "iopub.execute_input": "2023-05-04T11:09:39.837331Z",
     "iopub.status.busy": "2023-05-04T11:09:39.836638Z",
     "iopub.status.idle": "2023-05-04T11:09:39.846695Z",
     "shell.execute_reply": "2023-05-04T11:09:39.845434Z",
     "shell.execute_reply.started": "2023-05-04T11:09:39.83729Z"
    }
   },
   "outputs": [
    {
     "ename": "NameError",
     "evalue": "name 'y' is not defined",
     "output_type": "error",
     "traceback": [
      "\u001b[0;31m---------------------------------------------------------------------------\u001b[0m",
      "\u001b[0;31mNameError\u001b[0m                                 Traceback (most recent call last)",
      "\u001b[0;32m/var/folders/vy/nkyp6vqj4ss94797dpdr5bbm0000gn/T/ipykernel_46861/1295693684.py\u001b[0m in \u001b[0;36m<module>\u001b[0;34m\u001b[0m\n\u001b[0;32m----> 1\u001b[0;31m \u001b[0my\u001b[0m \u001b[0;34m=\u001b[0m \u001b[0my\u001b[0m\u001b[0;34m.\u001b[0m\u001b[0mround\u001b[0m\u001b[0;34m(\u001b[0m\u001b[0;36m0\u001b[0m\u001b[0;34m)\u001b[0m\u001b[0;34m\u001b[0m\u001b[0;34m\u001b[0m\u001b[0m\n\u001b[0m\u001b[1;32m      2\u001b[0m \u001b[0my\u001b[0m\u001b[0;34m\u001b[0m\u001b[0;34m\u001b[0m\u001b[0m\n",
      "\u001b[0;31mNameError\u001b[0m: name 'y' is not defined"
     ]
    }
   ],
   "source": [
    "y = y.round(0)\n",
    "y"
   ]
  },
  {
   "cell_type": "code",
   "execution_count": 9,
   "metadata": {
    "execution": {
     "iopub.execute_input": "2023-05-04T11:09:44.229623Z",
     "iopub.status.busy": "2023-05-04T11:09:44.229224Z",
     "iopub.status.idle": "2023-05-04T11:09:44.247522Z",
     "shell.execute_reply": "2023-05-04T11:09:44.245782Z",
     "shell.execute_reply.started": "2023-05-04T11:09:44.22958Z"
    }
   },
   "outputs": [
    {
     "ename": "NameError",
     "evalue": "name 'modified_data' is not defined",
     "output_type": "error",
     "traceback": [
      "\u001b[0;31m---------------------------------------------------------------------------\u001b[0m",
      "\u001b[0;31mNameError\u001b[0m                                 Traceback (most recent call last)",
      "\u001b[0;32m/var/folders/vy/nkyp6vqj4ss94797dpdr5bbm0000gn/T/ipykernel_46861/224331964.py\u001b[0m in \u001b[0;36m<module>\u001b[0;34m\u001b[0m\n\u001b[1;32m      1\u001b[0m \u001b[0;31m# Feature Importance using Filter Method (Chi-Square)\u001b[0m\u001b[0;34m\u001b[0m\u001b[0;34m\u001b[0m\u001b[0m\n\u001b[1;32m      2\u001b[0m \u001b[0;32mfrom\u001b[0m \u001b[0msklearn\u001b[0m\u001b[0;34m.\u001b[0m\u001b[0mfeature_selection\u001b[0m \u001b[0;32mimport\u001b[0m \u001b[0mSelectKBest\u001b[0m\u001b[0;34m,\u001b[0m \u001b[0mchi2\u001b[0m\u001b[0;34m\u001b[0m\u001b[0;34m\u001b[0m\u001b[0m\n\u001b[0;32m----> 3\u001b[0;31m \u001b[0mX\u001b[0m \u001b[0;34m=\u001b[0m \u001b[0mmodified_data\u001b[0m\u001b[0;34m.\u001b[0m\u001b[0mloc\u001b[0m\u001b[0;34m[\u001b[0m\u001b[0;34m:\u001b[0m\u001b[0;34m,\u001b[0m\u001b[0mmodified_data\u001b[0m\u001b[0;34m.\u001b[0m\u001b[0mcolumns\u001b[0m\u001b[0;34m!=\u001b[0m\u001b[0;34m'Rain_Tmr'\u001b[0m\u001b[0;34m]\u001b[0m\u001b[0;34m\u001b[0m\u001b[0;34m\u001b[0m\u001b[0m\n\u001b[0m\u001b[1;32m      4\u001b[0m \u001b[0my\u001b[0m \u001b[0;34m=\u001b[0m \u001b[0my\u001b[0m\u001b[0;34m\u001b[0m\u001b[0;34m\u001b[0m\u001b[0m\n\u001b[1;32m      5\u001b[0m \u001b[0mselector\u001b[0m \u001b[0;34m=\u001b[0m \u001b[0mSelectKBest\u001b[0m\u001b[0;34m(\u001b[0m\u001b[0mchi2\u001b[0m\u001b[0;34m,\u001b[0m \u001b[0mk\u001b[0m\u001b[0;34m=\u001b[0m\u001b[0;36m10\u001b[0m\u001b[0;34m)\u001b[0m\u001b[0;34m\u001b[0m\u001b[0;34m\u001b[0m\u001b[0m\n",
      "\u001b[0;31mNameError\u001b[0m: name 'modified_data' is not defined"
     ]
    }
   ],
   "source": [
    "# Feature Importance using Filter Method (Chi-Square)\n",
    "from sklearn.feature_selection import SelectKBest, chi2\n",
    "X = modified_data.loc[:,modified_data.columns!='Rain_Tmr']\n",
    "y = y\n",
    "selector = SelectKBest(chi2, k=10)\n",
    "selector.fit(X, y)\n",
    "X_new = selector.transform(X)\n",
    "print(X.columns[selector.get_support(indices=True)])"
   ]
  },
  {
   "cell_type": "markdown",
   "metadata": {},
   "source": [
    "### Selection of features by wrapping method (random forest):"
   ]
  },
  {
   "cell_type": "code",
   "execution_count": null,
   "metadata": {
    "execution": {
     "iopub.execute_input": "2023-05-04T11:09:46.933137Z",
     "iopub.status.busy": "2023-05-04T11:09:46.932435Z",
     "iopub.status.idle": "2023-05-04T11:09:51.29731Z",
     "shell.execute_reply": "2023-05-04T11:09:51.296356Z",
     "shell.execute_reply.started": "2023-05-04T11:09:46.933094Z"
    }
   },
   "outputs": [],
   "source": [
    "from sklearn.feature_selection import SelectFromModel\n",
    "from sklearn.ensemble import RandomForestClassifier as rf\n",
    "\n",
    "X = MiceImputed.drop('Rain_Tmr', axis=1)\n",
    "y = y\n",
    "selector = SelectFromModel(rf(n_estimators=100, random_state=0))\n",
    "selector.fit(X, y)\n",
    "support = selector.get_support()\n",
    "features = X.loc[:,support].columns.tolist()\n",
    "print(features)\n",
    "print(rf(n_estimators=100, random_state=0).fit(X,y).feature_importances_)"
   ]
  },
  {
   "cell_type": "markdown",
   "metadata": {},
   "source": [
    "## Training Rainfall Prediction Model with Different Models\n",
    "We will divide the dataset into training (75%) and test (25%) sets respectively to train the rainfall prediction model. For best results, we will standardize our X_train and X_test data:"
   ]
  },
  {
   "cell_type": "code",
   "execution_count": null,
   "metadata": {
    "execution": {
     "iopub.execute_input": "2023-05-04T11:10:12.282176Z",
     "iopub.status.busy": "2023-05-04T11:10:12.281773Z",
     "iopub.status.idle": "2023-05-04T11:10:12.302505Z",
     "shell.execute_reply": "2023-05-04T11:10:12.301384Z",
     "shell.execute_reply.started": "2023-05-04T11:10:12.282138Z"
    }
   },
   "outputs": [],
   "source": [
    "features = MiceImputed[['Min_Temp', 'Max_Temp', 'Dew', 'Specific_Humidity', 'Relative_Humidty', 'Surface_Pressure', \n",
    "                       'Max_WindSpeed', 'Min_WindSpeed', 'WindDirection(Degrees)', 'Rain_Today','Temperature_earthskin']]\n",
    "target = y\n",
    "\n",
    "# Split into test and train\n",
    "from sklearn.model_selection import train_test_split\n",
    "X_train, X_test, y_train, y_test = train_test_split(features, target, test_size=0.25, random_state=12345)\n",
    "\n",
    "# Normalize Features\n",
    "from sklearn.preprocessing import StandardScaler\n",
    "scaler = StandardScaler()\n",
    "X_train = scaler.fit_transform(X_train)\n",
    "X_test = scaler.fit_transform(X_test)"
   ]
  },
  {
   "cell_type": "code",
   "execution_count": null,
   "metadata": {
    "execution": {
     "iopub.execute_input": "2023-05-04T11:10:18.232373Z",
     "iopub.status.busy": "2023-05-04T11:10:18.231679Z",
     "iopub.status.idle": "2023-05-04T11:10:18.237594Z",
     "shell.execute_reply": "2023-05-04T11:10:18.236843Z",
     "shell.execute_reply.started": "2023-05-04T11:10:18.232322Z"
    }
   },
   "outputs": [],
   "source": [
    "def plot_roc_cur(fper, tper):  \n",
    "    plt.plot(fper, tper, color='orange', label='ROC')\n",
    "    plt.plot([0, 1], [0, 1], color='darkblue', linestyle='--')\n",
    "    plt.xlabel('False Positive Rate')\n",
    "    plt.ylabel('True Positive Rate')\n",
    "    plt.title('Receiver Operating Characteristic (ROC) Curve')\n",
    "    plt.legend()\n",
    "    plt.show()"
   ]
  },
  {
   "cell_type": "code",
   "execution_count": null,
   "metadata": {
    "execution": {
     "iopub.execute_input": "2023-05-04T11:10:21.486826Z",
     "iopub.status.busy": "2023-05-04T11:10:21.48612Z",
     "iopub.status.idle": "2023-05-04T11:10:21.495523Z",
     "shell.execute_reply": "2023-05-04T11:10:21.494668Z",
     "shell.execute_reply.started": "2023-05-04T11:10:21.486779Z"
    }
   },
   "outputs": [],
   "source": [
    "import time\n",
    "from sklearn.metrics import accuracy_score, roc_auc_score, cohen_kappa_score, plot_confusion_matrix, roc_curve, classification_report\n",
    "def run_model(model, X_train, y_train, X_test, y_test, verbose=True):\n",
    "    t0=time.time()\n",
    "    if verbose == False:\n",
    "        model.fit(X_train,y_train, verbose=0)\n",
    "    else:\n",
    "        model.fit(X_train,y_train)\n",
    "    y_pred = model.predict(X_test)\n",
    "    accuracy = accuracy_score(y_test, y_pred)\n",
    "    roc_auc = roc_auc_score(y_test, y_pred) \n",
    "    coh_kap = cohen_kappa_score(y_test, y_pred)\n",
    "    time_taken = time.time()-t0\n",
    "    print(\"Accuracy = {}\".format(accuracy))\n",
    "    print(\"ROC Area under Curve = {}\".format(roc_auc))\n",
    "    print(\"Cohen's Kappa = {}\".format(coh_kap))\n",
    "    print(\"Time taken = {}\".format(time_taken))\n",
    "    print(classification_report(y_test,y_pred,digits=5))\n",
    "    \n",
    "    probs = model.predict_proba(X_test)  \n",
    "    probs = probs[:, 1]  \n",
    "    fper, tper, thresholds = roc_curve(y_test, probs) \n",
    "    plot_roc_cur(fper, tper)\n",
    "    \n",
    "    plot_confusion_matrix(model, X_test, y_test,cmap=plt.cm.Blues, normalize = 'all')\n",
    "    \n",
    "    return model, accuracy, roc_auc, coh_kap, time_taken"
   ]
  },
  {
   "cell_type": "code",
   "execution_count": null,
   "metadata": {
    "execution": {
     "iopub.execute_input": "2023-05-04T11:10:25.844505Z",
     "iopub.status.busy": "2023-05-04T11:10:25.843822Z",
     "iopub.status.idle": "2023-05-04T11:10:26.542779Z",
     "shell.execute_reply": "2023-05-04T11:10:26.541875Z",
     "shell.execute_reply.started": "2023-05-04T11:10:25.844463Z"
    }
   },
   "outputs": [],
   "source": [
    "# Logistic Regression\n",
    "from sklearn.linear_model import LogisticRegression\n",
    "\n",
    "params_lr = {'penalty': 'l1', 'solver':'liblinear'}\n",
    "\n",
    "model_lr = LogisticRegression(**params_lr)\n",
    "model_lr, accuracy_lr, roc_auc_lr, coh_kap_lr, tt_lr = run_model(model_lr, X_train, y_train, X_test, y_test)\n",
    "\n"
   ]
  },
  {
   "cell_type": "code",
   "execution_count": null,
   "metadata": {
    "execution": {
     "iopub.execute_input": "2023-05-04T11:10:33.929007Z",
     "iopub.status.busy": "2023-05-04T11:10:33.928615Z",
     "iopub.status.idle": "2023-05-04T11:10:34.317722Z",
     "shell.execute_reply": "2023-05-04T11:10:34.31679Z",
     "shell.execute_reply.started": "2023-05-04T11:10:33.928969Z"
    }
   },
   "outputs": [],
   "source": [
    "# Decision Tree\n",
    "from sklearn.tree import DecisionTreeClassifier\n",
    "\n",
    "params_dt = {'max_depth': 16,\n",
    "             'max_features': \"sqrt\"}\n",
    "\n",
    "model_dt = DecisionTreeClassifier(**params_dt)\n",
    "model_dt, accuracy_dt, roc_auc_dt, coh_kap_dt, tt_dt = run_model(model_dt, X_train, y_train, X_test, y_test)\n",
    "\n"
   ]
  },
  {
   "cell_type": "code",
   "execution_count": null,
   "metadata": {
    "execution": {
     "iopub.execute_input": "2023-05-04T11:10:41.781564Z",
     "iopub.status.busy": "2023-05-04T11:10:41.781116Z",
     "iopub.status.idle": "2023-05-04T11:10:43.937207Z",
     "shell.execute_reply": "2023-05-04T11:10:43.936281Z",
     "shell.execute_reply.started": "2023-05-04T11:10:41.781524Z"
    }
   },
   "outputs": [],
   "source": [
    "# Random Forest\n",
    "from sklearn.ensemble import RandomForestClassifier\n",
    "\n",
    "params_rf = {'max_depth': 16,\n",
    "             'min_samples_leaf': 1,\n",
    "             'min_samples_split': 2,\n",
    "             'n_estimators': 100,\n",
    "             'random_state': 12345}\n",
    "\n",
    "model_rf = RandomForestClassifier(**params_rf)\n",
    "model_rf, accuracy_rf, roc_auc_rf, coh_kap_rf, tt_rf = run_model(model_rf, X_train, y_train, X_test, y_test)\n",
    "\n"
   ]
  },
  {
   "cell_type": "code",
   "execution_count": null,
   "metadata": {
    "execution": {
     "iopub.execute_input": "2023-05-04T11:10:47.555417Z",
     "iopub.status.busy": "2023-05-04T11:10:47.555014Z",
     "iopub.status.idle": "2023-05-04T11:10:48.379638Z",
     "shell.execute_reply": "2023-05-04T11:10:48.378259Z",
     "shell.execute_reply.started": "2023-05-04T11:10:47.555365Z"
    }
   },
   "outputs": [],
   "source": [
    "# Light GBM\n",
    "import lightgbm as lgb\n",
    "params_lgb ={'colsample_bytree': 0.95, \n",
    "         'max_depth': 16, \n",
    "         'min_split_gain': 0.1, \n",
    "         'n_estimators': 200, \n",
    "         'num_leaves': 50, \n",
    "         'reg_alpha': 1.2, \n",
    "         'reg_lambda': 1.2, \n",
    "         'subsample': 0.95, \n",
    "         'subsample_freq': 20}\n",
    "\n",
    "model_lgb = lgb.LGBMClassifier(**params_lgb)\n",
    "model_lgb, accuracy_lgb, roc_auc_lgb, coh_kap_lgb, tt_lgb = run_model(model_lgb, X_train, y_train, X_test, y_test)\n",
    "\n"
   ]
  },
  {
   "cell_type": "code",
   "execution_count": null,
   "metadata": {
    "execution": {
     "iopub.execute_input": "2023-05-04T11:13:48.332489Z",
     "iopub.status.busy": "2023-05-04T11:13:48.33206Z",
     "iopub.status.idle": "2023-05-04T11:13:48.340789Z",
     "shell.execute_reply": "2023-05-04T11:13:48.339275Z",
     "shell.execute_reply.started": "2023-05-04T11:13:48.332457Z"
    }
   },
   "outputs": [],
   "source": [
    "y_train.unique()"
   ]
  },
  {
   "cell_type": "code",
   "execution_count": 10,
   "metadata": {
    "execution": {
     "iopub.execute_input": "2023-05-04T11:15:27.916893Z",
     "iopub.status.busy": "2023-05-04T11:15:27.916506Z",
     "iopub.status.idle": "2023-05-04T11:15:32.932684Z",
     "shell.execute_reply": "2023-05-04T11:15:32.931738Z",
     "shell.execute_reply.started": "2023-05-04T11:15:27.916863Z"
    }
   },
   "outputs": [
    {
     "ename": "ModuleNotFoundError",
     "evalue": "No module named 'xgboost'",
     "output_type": "error",
     "traceback": [
      "\u001b[0;31m---------------------------------------------------------------------------\u001b[0m",
      "\u001b[0;31mModuleNotFoundError\u001b[0m                       Traceback (most recent call last)",
      "\u001b[0;32m/var/folders/vy/nkyp6vqj4ss94797dpdr5bbm0000gn/T/ipykernel_46861/665418952.py\u001b[0m in \u001b[0;36m<module>\u001b[0;34m\u001b[0m\n\u001b[1;32m      1\u001b[0m \u001b[0;31m# XGBoost\u001b[0m\u001b[0;34m\u001b[0m\u001b[0;34m\u001b[0m\u001b[0m\n\u001b[0;32m----> 2\u001b[0;31m \u001b[0;32mimport\u001b[0m \u001b[0mxgboost\u001b[0m \u001b[0;32mas\u001b[0m \u001b[0mxgb\u001b[0m\u001b[0;34m\u001b[0m\u001b[0;34m\u001b[0m\u001b[0m\n\u001b[0m\u001b[1;32m      3\u001b[0m params_xgb ={'n_estimators': 500,\n\u001b[1;32m      4\u001b[0m             'max_depth': 16}\n\u001b[1;32m      5\u001b[0m \u001b[0;34m\u001b[0m\u001b[0m\n",
      "\u001b[0;31mModuleNotFoundError\u001b[0m: No module named 'xgboost'"
     ]
    }
   ],
   "source": [
    "# XGBoost\n",
    "import xgboost as xgb\n",
    "params_xgb ={'n_estimators': 500,\n",
    "            'max_depth': 16}\n",
    "\n",
    "model_xgb = xgb.XGBClassifier(**params_xgb)\n",
    "model_xgb, accuracy_xgb, roc_auc_xgb, coh_kap_xgb, tt_xgb = run_model(model_xgb, X_train, y_train, X_test, y_test)"
   ]
  },
  {
   "cell_type": "markdown",
   "metadata": {},
   "source": [
    "## Plotting Decision Region for all Models"
   ]
  },
  {
   "cell_type": "code",
   "execution_count": 11,
   "metadata": {
    "execution": {
     "iopub.execute_input": "2023-05-04T11:19:58.701889Z",
     "iopub.status.busy": "2023-05-04T11:19:58.701531Z",
     "iopub.status.idle": "2023-05-04T11:20:33.672722Z",
     "shell.execute_reply": "2023-05-04T11:20:33.671953Z",
     "shell.execute_reply.started": "2023-05-04T11:19:58.701856Z"
    }
   },
   "outputs": [
    {
     "ename": "ModuleNotFoundError",
     "evalue": "No module named 'lightgbm'",
     "output_type": "error",
     "traceback": [
      "\u001b[0;31m---------------------------------------------------------------------------\u001b[0m",
      "\u001b[0;31mModuleNotFoundError\u001b[0m                       Traceback (most recent call last)",
      "\u001b[0;32m/var/folders/vy/nkyp6vqj4ss94797dpdr5bbm0000gn/T/ipykernel_46861/3728392602.py\u001b[0m in \u001b[0;36m<module>\u001b[0;34m\u001b[0m\n\u001b[1;32m      7\u001b[0m \u001b[0;32mfrom\u001b[0m \u001b[0msklearn\u001b[0m\u001b[0;34m.\u001b[0m\u001b[0mneural_network\u001b[0m \u001b[0;32mimport\u001b[0m \u001b[0mMLPClassifier\u001b[0m\u001b[0;34m\u001b[0m\u001b[0;34m\u001b[0m\u001b[0m\n\u001b[1;32m      8\u001b[0m \u001b[0;32mfrom\u001b[0m \u001b[0msklearn\u001b[0m\u001b[0;34m.\u001b[0m\u001b[0mensemble\u001b[0m \u001b[0;32mimport\u001b[0m \u001b[0mRandomForestClassifier\u001b[0m\u001b[0;34m\u001b[0m\u001b[0;34m\u001b[0m\u001b[0m\n\u001b[0;32m----> 9\u001b[0;31m \u001b[0;32mimport\u001b[0m \u001b[0mlightgbm\u001b[0m \u001b[0;32mas\u001b[0m \u001b[0mlgb\u001b[0m\u001b[0;34m\u001b[0m\u001b[0;34m\u001b[0m\u001b[0m\n\u001b[0m\u001b[1;32m     10\u001b[0m \u001b[0;32mimport\u001b[0m \u001b[0mcatboost\u001b[0m \u001b[0;32mas\u001b[0m \u001b[0mcb\u001b[0m\u001b[0;34m\u001b[0m\u001b[0;34m\u001b[0m\u001b[0m\n\u001b[1;32m     11\u001b[0m \u001b[0;32mimport\u001b[0m \u001b[0mxgboost\u001b[0m \u001b[0;32mas\u001b[0m \u001b[0mxgb\u001b[0m\u001b[0;34m\u001b[0m\u001b[0;34m\u001b[0m\u001b[0m\n",
      "\u001b[0;31mModuleNotFoundError\u001b[0m: No module named 'lightgbm'"
     ]
    }
   ],
   "source": [
    "import numpy as np\n",
    "import matplotlib.pyplot as plt\n",
    "import matplotlib.gridspec as gridspec\n",
    "import itertools\n",
    "from sklearn.linear_model import LogisticRegression\n",
    "from sklearn.tree import DecisionTreeClassifier\n",
    "from sklearn.neural_network import MLPClassifier\n",
    "from sklearn.ensemble import RandomForestClassifier\n",
    "import lightgbm as lgb\n",
    "import catboost as cb\n",
    "import xgboost as xgb\n",
    "from mlxtend.classifier import EnsembleVoteClassifier\n",
    "from mlxtend.plotting import plot_decision_regions\n",
    "\n",
    "value = 1.80\n",
    "width = 0.90\n",
    "\n",
    "clf1 = LogisticRegression(random_state=12345)\n",
    "clf2 = DecisionTreeClassifier(random_state=12345) \n",
    "clf3 = MLPClassifier(random_state=12345, verbose = 0)\n",
    "clf4 = RandomForestClassifier(random_state=12345)\n",
    "clf5 = lgb.LGBMClassifier(random_state=12345, verbose = 0)\n",
    "clf7 = xgb.XGBClassifier(random_state=12345)\n",
    "eclf = EnsembleVoteClassifier(clfs=[clf4, clf5, clf7], weights=[1, 1,  1], voting='soft')\n",
    "\n",
    "X_list = MiceImputed[[\"Dew\", \"Specific_Humidity\", \"Precipitation\"]] #took only really important features\n",
    "X = np.asarray(X_list, dtype=np.float32)\n",
    "y_list = MiceImputed[\"Rain_Tmr\"]\n",
    "y = np.asarray(y_list, dtype=np.int32)\n",
    "\n",
    "# Plotting Decision Regions\n",
    "gs = gridspec.GridSpec(3,3)\n",
    "fig = plt.figure(figsize=(18, 14))\n",
    "\n",
    "labels = ['Logistic Regression',\n",
    "          'Decision Tree',\n",
    "          'Neural Network',\n",
    "          'Random Forest',\n",
    "          'LightGBM',\n",
    "          'XGBoost',\n",
    "          'Ensemble']\n",
    "\n",
    "for clf, lab, grd in zip([clf1, clf2, clf3, clf4, clf5,  clf7, eclf],\n",
    "                         labels,\n",
    "                         itertools.product([0, 1, 2],\n",
    "                         repeat=2)):\n",
    "    clf.fit(X, y)\n",
    "    ax = plt.subplot(gs[grd[0], grd[1]])\n",
    "    fig = plot_decision_regions(X=X, y=y, clf=clf, \n",
    "                                filler_feature_values={2: value}, \n",
    "                                filler_feature_ranges={2: width}, \n",
    "                                legend=2)\n",
    "    plt.title(lab)\n",
    "\n",
    "plt.show()"
   ]
  },
  {
   "cell_type": "markdown",
   "metadata": {},
   "source": [
    "## Rainfall Prediction Model Comparison\n",
    "Now we need to decide which model performed best based on Precision Score, ROC_AUC, Cohen’s Kappa and Total Run Time. One point to mention here is: we could have considered F1-Score as a better metric for judging model performance instead of accuracy, but we have already converted the unbalanced dataset to a balanced one, so consider accuracy as a metric for deciding the best model is justified in this case.\n",
    "\n",
    "For a better decision, we chose “Cohen’s Kappa” which is actually an ideal choice as a metric to decide on the best model in case of unbalanced datasets. Let’s check which model worked well on which front:"
   ]
  },
  {
   "cell_type": "code",
   "execution_count": null,
   "metadata": {
    "execution": {
     "iopub.execute_input": "2023-05-04T11:21:30.075764Z",
     "iopub.status.busy": "2023-05-04T11:21:30.07534Z",
     "iopub.status.idle": "2023-05-04T11:21:30.421907Z",
     "shell.execute_reply": "2023-05-04T11:21:30.420218Z",
     "shell.execute_reply.started": "2023-05-04T11:21:30.07573Z"
    }
   },
   "outputs": [],
   "source": [
    "accuracy_scores = [accuracy_lr, accuracy_dt, accuracy_rf, accuracy_lgb, accuracy_xgb]\n",
    "roc_auc_scores = [roc_auc_lr, roc_auc_dt, roc_auc_rf, roc_auc_lgb, roc_auc_xgb]\n",
    "coh_kap_scores = [coh_kap_lr, coh_kap_dt, coh_kap_rf, coh_kap_lgb, coh_kap_xgb]\n",
    "tt = [tt_lr, tt_dt, tt_rf, tt_lgb,  tt_xgb]\n",
    "\n",
    "model_data = {'Model': ['Logistic Regression','Decision Tree','Random Forest','LightGBM','XGBoost'],\n",
    "              'Accuracy': accuracy_scores,\n",
    "              'ROC_AUC': roc_auc_scores,\n",
    "              'Cohen_Kappa': coh_kap_scores,\n",
    "              'Time taken': tt}\n",
    "data = pd.DataFrame(model_data)\n",
    "\n",
    "fig, ax1 = plt.subplots(figsize=(12,10))\n",
    "ax1.set_title('Model Comparison: Accuracy and Time taken for execution', fontsize=13)\n",
    "color = 'tab:green'\n",
    "ax1.set_xlabel('Model', fontsize=13)\n",
    "ax1.set_ylabel('Time taken', fontsize=13, color=color)\n",
    "ax2 = sns.barplot(x='Model', y='Time taken', data = data, palette='summer')\n",
    "ax1.tick_params(axis='y')\n",
    "ax2 = ax1.twinx()\n",
    "color = 'tab:red'\n",
    "ax2.set_ylabel('Accuracy', fontsize=13, color=color)\n",
    "ax2 = sns.lineplot(x='Model', y='Accuracy', data = data, sort=False, color=color)\n",
    "ax2.tick_params(axis='y', color=color)"
   ]
  },
  {
   "cell_type": "code",
   "execution_count": null,
   "metadata": {
    "execution": {
     "iopub.execute_input": "2023-05-04T11:21:46.244383Z",
     "iopub.status.busy": "2023-05-04T11:21:46.243951Z",
     "iopub.status.idle": "2023-05-04T11:21:46.606226Z",
     "shell.execute_reply": "2023-05-04T11:21:46.605215Z",
     "shell.execute_reply.started": "2023-05-04T11:21:46.244347Z"
    }
   },
   "outputs": [],
   "source": [
    "fig, ax3 = plt.subplots(figsize=(12,10))\n",
    "ax3.set_title('Model Comparison: Area under ROC and Cohens Kappa', fontsize=13)\n",
    "color = 'tab:blue'\n",
    "ax3.set_xlabel('Model', fontsize=13)\n",
    "ax3.set_ylabel('ROC_AUC', fontsize=13, color=color)\n",
    "ax4 = sns.barplot(x='Model', y='ROC_AUC', data = data, palette='winter')\n",
    "ax3.tick_params(axis='y')\n",
    "ax4 = ax3.twinx()\n",
    "color = 'tab:red'\n",
    "ax4.set_ylabel('Cohen_Kappa', fontsize=13, color=color)\n",
    "ax4 = sns.lineplot(x='Model', y='Cohen_Kappa', data = data, sort=False, color=color)\n",
    "ax4.tick_params(axis='y', color=color)\n",
    "plt.show()"
   ]
  },
  {
   "cell_type": "markdown",
   "metadata": {},
   "source": [
    "### We can observe that XGBoost, CatBoost and Random Forest performed better compared to other models. However, if speed is an important thing to consider, we can stick with Random Forest instead of XGBoost or CatBoost."
   ]
  },
  {
   "cell_type": "code",
   "execution_count": null,
   "metadata": {},
   "outputs": [],
   "source": []
  },
  {
   "cell_type": "code",
   "execution_count": null,
   "metadata": {},
   "outputs": [],
   "source": []
  },
  {
   "cell_type": "code",
   "execution_count": null,
   "metadata": {},
   "outputs": [],
   "source": []
  },
  {
   "cell_type": "code",
   "execution_count": null,
   "metadata": {},
   "outputs": [],
   "source": []
  },
  {
   "cell_type": "code",
   "execution_count": null,
   "metadata": {},
   "outputs": [],
   "source": []
  },
  {
   "cell_type": "code",
   "execution_count": null,
   "metadata": {},
   "outputs": [],
   "source": []
  }
 ],
 "metadata": {
  "kernelspec": {
   "display_name": "Python 3 (ipykernel)",
   "language": "python",
   "name": "python3"
  },
  "language_info": {
   "codemirror_mode": {
    "name": "ipython",
    "version": 3
   },
   "file_extension": ".py",
   "mimetype": "text/x-python",
   "name": "python",
   "nbconvert_exporter": "python",
   "pygments_lexer": "ipython3",
   "version": "3.9.13"
  }
 },
 "nbformat": 4,
 "nbformat_minor": 4
}
